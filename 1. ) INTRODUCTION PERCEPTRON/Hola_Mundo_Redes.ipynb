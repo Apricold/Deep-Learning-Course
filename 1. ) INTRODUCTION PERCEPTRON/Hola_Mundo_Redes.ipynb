{
 "cells": [
  {
   "cell_type": "markdown",
   "metadata": {},
   "source": [
    "# ***Hola Mundo en Redes Neuronales***\n",
    "\n",
    "\n",
    "### Tabla de contenidos\n",
    "- [Librerias](#1)\n",
    "- [Introducción](#2)\n",
    "    - [Ejercicio 1](#ex-1)\n",
    "    - [Ejercicio 2](#ex-2)\n",
    "- [Arquitectura del algoritmo de aprendizaje](#3)\n",
    "    - [Ejercicio 3](#ex-1)\n",
    "    - [Ejercicio 4](#ex-2)\n",
    "- [Vectorización](#4)\n",
    "    - [Ejercicio 5](#ex-2)\n",
    "- [Propagación](#4)\n",
    "    - [Ejercicio 6](#ex-2)\n",
    "- [Ajuste de parametros](#4)\n",
    "    - [Ejercicio 7](#ex-2)\n",
    "- [Predicción](#5)\n",
    "    - [Ejercicio 8](#ex-8)\n",
    "- [Creación del modelo](#9)\n",
    "    - [Ejercicio 9](#9)\n",
    "- [Resultados](#6)"
   ]
  },
  {
   "cell_type": "markdown",
   "metadata": {},
   "source": [
    "\n",
    "## ***Librerias***"
   ]
  },
  {
   "cell_type": "code",
   "execution_count": 1,
   "metadata": {},
   "outputs": [],
   "source": [
    "\n",
    "import numpy as np\n",
    "import copy\n",
    "import matplotlib.pyplot as plt\n",
    "import time \n",
    "import h5py\n",
    "import scipy\n",
    "from PIL import Image\n",
    "from scipy import ndimage\n",
    "from lr_utils import load_dataset\n",
    "from public_tests import *\n",
    "\n",
    "\n"
   ]
  },
  {
   "cell_type": "markdown",
   "metadata": {},
   "source": [
    "## ***Introducción***\n",
    "Nuestro objetivo es crear un algoritmo que pueda identificar si una imagen muestra un gato, sin recurrir a bibliotecas avanzadas de deep learning como TensorFlow, PyTorch o Scikit-learn. En lugar de ello, basaremos nuestra implementación en NumPy, aprovechando los fundamentos matemáticos en los que se apoya el aprendizaje profundo. Esta aproximación nos permitirá entender cómo los conceptos matemáticos se aplican en la programación para lograr la clasificación de imágenes.\n",
    "\n",
    "\n",
    "Conocimiento previos :\n",
    "\n",
    "- Matrices y Vectores\n",
    "\n",
    "- Derivadas \n",
    "    \n",
    "- Python Basico \n",
    "\n",
    "    \n",
    "\n",
    "Objetivos principales:\n",
    "\n",
    "- Comprender la importancia de las dimensiones, tanto en las entradas como en las salidas de un perceptrón, y cómo estas afectan el procesamiento de la información.\n",
    "\n",
    "- Explorar las funciones básicas que componen un perceptrón y su papel en la construcción de modelos de deep learning.\n",
    "    \n",
    "- Aprender el proceso de ajuste de parámetros mediante técnicas de regresión, esencial para la optimización de nuestros modelos.\n",
    "\n",
    "\n",
    "\n"
   ]
  },
  {
   "cell_type": "code",
   "execution_count": 2,
   "metadata": {},
   "outputs": [
    {
     "name": "stdout",
     "output_type": "stream",
     "text": [
      "las dimensiones de nuestras base de datos x entrenamiento  estan dadas por (209, 64, 64, 3)\n",
      "las dimensiones de nuestras base de datos x entrenamiento  estan dadas por (50, 64, 64, 3)\n"
     ]
    }
   ],
   "source": [
    "train_set_x,train_set_y,test_set_x,test_set_y,classes=load_dataset()\n",
    "\n",
    "print(f\"las dimensiones de nuestras base de datos x entrenamiento  estan dadas por {train_set_x.shape}\")\n",
    "print(f\"las dimensiones de nuestras base de datos x entrenamiento  estan dadas por {test_set_x.shape}\")"
   ]
  },
  {
   "cell_type": "markdown",
   "metadata": {},
   "source": [
    "\n",
    "***Prueba de imágenes***\n",
    "\n",
    "En esta sección puedes modificar el valor de \"idx\" para seleccionar una imagen diferente de la base de datos."
   ]
  },
  {
   "cell_type": "code",
   "execution_count": null,
   "metadata": {},
   "outputs": [],
   "source": [
    "idx=20\n",
    "plt.imshow(train_set_x[idx])"
   ]
  },
  {
   "cell_type": "markdown",
   "metadata": {},
   "source": [
    "### **Ejercicio 1**"
   ]
  },
  {
   "cell_type": "markdown",
   "metadata": {},
   "source": [
    "Nombre las siguientes variables (`m_train`,`m_test`,`nx`) las cuales contienes los valores de :\n",
    "    \n",
    "    m_train -> Numero de muestras para entrenamiento\n",
    "    \n",
    "    m_test -> Numero de muestras para testeo\n",
    "    \n",
    "    nx ->Numero de pixeles sea de ancho o largo de la imagen\n",
    "    "
   ]
  },
  {
   "cell_type": "code",
   "execution_count": null,
   "metadata": {},
   "outputs": [],
   "source": [
    "\n",
    "# ---------------CODIGO ------------------#\n",
    "m_train=\n",
    "m_test=\n",
    "nx=\n",
    "#------------------------------------------#\n",
    "\n",
    "\n",
    "\n",
    "print (\"Numero de muestras para entrenamiento: m_train = \" + str(m_train))\n",
    "print (\"Numero de muestras para testeo: m_test = \" + str(m_test))\n",
    "print (\"Altura/Anchura de cada imagen: nx = \" + str(nx))\n",
    "print (\"Tamaño de cada imagen: (\" + str(nx) + \", \" + str(nx) + \", 3) \\n \")\n",
    "\n",
    "\n",
    "print (\"train_set_x shape: \" + str(train_set_x.shape))\n",
    "print (\"train_set_y shape: \" + str(train_set_y.shape))\n",
    "print (\"test_set_x shape: \" + str(test_set_x.shape))\n",
    "print (\"test_set_y shape: \" + str(test_set_y.shape))"
   ]
  },
  {
   "cell_type": "markdown",
   "metadata": {},
   "source": [
    "Se espera que la salida sea :\n",
    "<table style=\"width:15%\">\n",
    "  <tr>\n",
    "    <td> m_train </td>\n",
    "    <td> 209 </td> \n",
    "  </tr>\n",
    "  \n",
    "  <tr>\n",
    "    <td>m_test</td>\n",
    "    <td> 50 </td> \n",
    "  </tr>\n",
    "  \n",
    "  <tr>\n",
    "    <td>nx</td>\n",
    "    <td> 64 </td> \n",
    "  </tr>\n",
    "  \n",
    "</table>\n"
   ]
  },
  {
   "cell_type": "markdown",
   "metadata": {},
   "source": [
    "### **Ejercicio 2**"
   ]
  },
  {
   "cell_type": "markdown",
   "metadata": {},
   "source": [
    "<center> <img src=\"./cat_image_descomposition.png\" style=\"width:650px;height:400px;\" > </center> "
   ]
  },
  {
   "cell_type": "markdown",
   "metadata": {},
   "source": [
    "\n",
    "\n",
    "En este ejercicio, transformaremos la base de datos de las  imágenes, originalmente en formato tridimensional  $(altura*anchura*canales)$\n",
    "en una matriz bidimensionales .\n",
    "\n",
    "Recordemos que nuestra entrada sera:\n",
    "\n",
    "\n",
    "$$\\mathbf{x} \\in \\mathbb{R}^{m \\times ancho \\times largo \\times canales }  \\rightarrow \\mathbf{x} \\in \\mathbb{R}^{n_x \\times m}  $$ \n",
    "\n",
    "***Consejo***\n",
    "la función np.reshape() proporciona una forma para realizar esta transformacion\n"
   ]
  },
  {
   "cell_type": "code",
   "execution_count": 3,
   "metadata": {},
   "outputs": [
    {
     "ename": "SyntaxError",
     "evalue": "invalid syntax (2756297537.py, line 3)",
     "output_type": "error",
     "traceback": [
      "\u001b[1;36m  Cell \u001b[1;32mIn[3], line 3\u001b[1;36m\u001b[0m\n\u001b[1;33m    train_set_x_plano=\u001b[0m\n\u001b[1;37m                      ^\u001b[0m\n\u001b[1;31mSyntaxError\u001b[0m\u001b[1;31m:\u001b[0m invalid syntax\n"
     ]
    }
   ],
   "source": [
    "# ---------------CODIGO ------------------#\n",
    "# YOUR CODE STARTS HERE\n",
    "train_set_x_plano=\n",
    "test_set_x_plano=\n",
    "#------------------------------------------#\n",
    "\n",
    "# Check that the first 10 pixels of the second image are in the correct place\n",
    "assert np.alltrue(train_set_x_plano[0:10, 1] == [196, 192, 190, 193, 186, 182, 188, 179, 174, 213]), \"Mala respuesta\"\n",
    "assert np.alltrue(test_set_x_plano[0:10, 1] == [115, 110, 111, 137, 129, 129, 155, 146, 145, 159]), \"Mala respuesta\"\n",
    "\n",
    "print (\"train_set_x_plano Dimensiones: \" + str(train_set_x_plano.shape))\n",
    "print (\"train_set_y Dimensiones: \" + str(train_set_y.shape)+\"\\n\")\n",
    "\n",
    "print (\"test_set_x_plano Dimensiones: \" + str(test_set_x_plano.shape))\n",
    "print (\"test_set_y Dimensiones: \" + str(test_set_y.shape))"
   ]
  },
  {
   "cell_type": "markdown",
   "metadata": {},
   "source": [
    "Estandarizamos las imagenes dividiendo cada fila de la base de datos por 255 el cual es el valor max"
   ]
  },
  {
   "cell_type": "code",
   "execution_count": null,
   "metadata": {},
   "outputs": [],
   "source": [
    "train_set_x = train_set_x_plano / 255.\n",
    "test_set_x = test_set_x_plano / 255."
   ]
  },
  {
   "cell_type": "markdown",
   "metadata": {},
   "source": [
    "## ***Arquitectura del algoritmo de aprendizaje***\n"
   ]
  },
  {
   "cell_type": "markdown",
   "metadata": {},
   "source": [
    "<center> <img src=\"./LogReg_kiank.png\" style=\"width:650px;height:400px;\" > </center> "
   ]
  },
  {
   "cell_type": "markdown",
   "metadata": {},
   "source": [
    "### **Ejercicio 3**\n",
    "Implemente la funcion sigmoide , la cual esta expresada como:\n",
    "\n",
    "$\\sigma(x) = \\frac{1}{1 + e^{-x}}$"
   ]
  },
  {
   "cell_type": "code",
   "execution_count": null,
   "metadata": {},
   "outputs": [],
   "source": [
    "def sigmoide(z):\n",
    "    \"\"\"\n",
    "    Computamos la funcion sigmoide\n",
    "\n",
    "    Input:\n",
    "    z -- Un escalar o arreglo numpy  de cualquier tamaño.\n",
    "\n",
    "    Return:\n",
    "    s -- sigmoid(z)\n",
    "    \"\"\"\n",
    "#-------------CODIGO----------------#\n",
    "    s=\n",
    "\n",
    "\n",
    "\n",
    "\n",
    "\n",
    "\n",
    "    \n",
    "#-------------/CODIGO----------------#\n",
    "    \n",
    "    return s"
   ]
  },
  {
   "cell_type": "code",
   "execution_count": null,
   "metadata": {},
   "outputs": [],
   "source": [
    "print (\"sigmoid([0, 2]) = \" + str(sigmoide(np.array([0,2]))))\n",
    "\n",
    "sigmoid_test(sigmoide)"
   ]
  },
  {
   "cell_type": "markdown",
   "metadata": {},
   "source": [
    "### **Ejercicio 4**\n",
    "\n",
    "***Inicialización de Parámetros*** \n",
    "\n",
    "Implementamos la función inicializamos_params() para inicializar los parametros en ceros recordemos que:\n",
    "\n",
    "$$W \\in \\mathbb{R}^{nx \\times 1}$$\n",
    "\n",
    "$$ b \\in \\mathbb{R} $$"
   ]
  },
  {
   "cell_type": "code",
   "execution_count": null,
   "metadata": {},
   "outputs": [],
   "source": [
    "\n",
    "def inicializamos_params(dim):\n",
    "    \"\"\"\n",
    "    Esta funcion crea un vector de ceros de dimensiones (dim, 1) con el fin de inicializar los parametros w y b\n",
    "    \n",
    "    Argument:\n",
    "    dim -- (Numero de parametros)\n",
    "    \n",
    "    Returns:\n",
    "    w -- inicializamos los vectores con dimensiones (dim, 1)\n",
    "    b -- inicializamos el bias correspondiente a un escalar\n",
    "    \"\"\"\n",
    "    #-------------CODIGO----------------#\n",
    "    w=\n",
    "    b=\n",
    "    #-------------/CODIGO----------------#\n",
    "\n",
    "    return w, b"
   ]
  },
  {
   "cell_type": "code",
   "execution_count": null,
   "metadata": {},
   "outputs": [],
   "source": [
    "dim = 2\n",
    "w, b = inicializamos_params(dim)\n",
    "\n",
    "assert type(b) == float\n",
    "print (\"w = \" + str(w))\n",
    "print (\"b = \" + str(b))\n",
    "\n",
    "initialize_with_zeros_test_1(inicializamos_params)\n",
    "initialize_with_zeros_test_2(inicializamos_params)\n"
   ]
  },
  {
   "cell_type": "markdown",
   "metadata": {},
   "source": [
    "## ***Vectorización***"
   ]
  },
  {
   "cell_type": "markdown",
   "metadata": {},
   "source": [
    "### **Ejercicio 5**\n",
    "\n",
    "Implemente 2 Codigos  en los cuales se realize el producto punto Y posteriormente obtenga la media entre $X \\in \\mathbb{R}^{nx \\times m}$  y una matriz sintetica compuesta de  unos $W \\in \\mathbb{R}^{1 \\times nx}$ \n",
    "\n",
    "con el fin entender la diferencia en realizar  operaciones matriciales por medio de iteraciones  y operaciones por medio de metodos de los arreglos de numpy\n",
    "\n",
    "    1. Realize la operacion producto punto y posteriormente obtenga la media del vector restante utilizando solo for loops\n",
    "    \n",
    "    2. Realize la operacion  producto punto y posteriormente obtenga la media usando metodos de numpy"
   ]
  },
  {
   "cell_type": "code",
   "execution_count": null,
   "metadata": {},
   "outputs": [],
   "source": [
    "#------------------NO TOCAR----------------#\n",
    "x_array=train_set_x\n",
    "w_array=np.ones((1,train_set_x.shape[0]))\n",
    "\n",
    "#---------------------------------------------#\n",
    "print(f\"Matriz x --> {x_array.shape}\")\n",
    "print(f\"Matriz w --> {w_array.shape}\")"
   ]
  },
  {
   "cell_type": "code",
   "execution_count": null,
   "metadata": {},
   "outputs": [],
   "source": [
    "#-----------------OPERACION POR MEDIO DE FOR LOOPS-------------------#"
   ]
  },
  {
   "cell_type": "code",
   "execution_count": null,
   "metadata": {},
   "outputs": [],
   "source": [
    "#-----------------OPERACION POR MEDIO DE METODOS DE PYTHON-------------------#"
   ]
  },
  {
   "cell_type": "markdown",
   "metadata": {},
   "source": [
    "## ***Propagación***\n"
   ]
  },
  {
   "cell_type": "markdown",
   "metadata": {},
   "source": [
    "<center> <img src=\"./graph_perceptron.gif\" style=\"width:650px;height:400px;\" > </center> "
   ]
  },
  {
   "cell_type": "markdown",
   "metadata": {},
   "source": [
    "### **Ejercicio 6**\n",
    "\n",
    "Implementaremos la funcion *propagacion()* la cual calcula los siguientes pasos:\n",
    "\n",
    "***Forward Propagation***\n",
    "\n",
    "$$X \\in \\mathbb{R}^{n \\times m}$$ \n",
    "\n",
    "$$A = \\sigma(w^T X + b) = (a^{(1)}, a^{(2)}, ..., a^{(m-1)}, a^{(m)})$$\n",
    "\n",
    "***Cost Function***\n",
    "\n",
    "$$J = -\\frac{1}{m}\\sum_{i=1}^{m}(y^{(i)}\\ln(a^{(i)})+(1-y^{(i)})\\ln(1-a^{(i)}))$$\n",
    "\n",
    "***Backward Propagation***\n",
    "\n",
    "$$ \\frac{\\partial J}{\\partial w} = \\frac{1}{m}X(\\frac{\\partial J}{\\partial z})^T\\tag{7}$$\n",
    "\n",
    "$$ \\frac{\\partial J}{\\partial b} = \\frac{1}{m} \\sum_{i=1}^m (\\frac{\\partial J}{\\partial z})\\tag{8}$$"
   ]
  },
  {
   "cell_type": "code",
   "execution_count": null,
   "metadata": {},
   "outputs": [],
   "source": [
    "\n",
    "def propagacion(w, b, X, Y):\n",
    "    \"\"\"\n",
    "    Esta funcion implementa el forward propagation ,cost function y backward propagation\n",
    "\n",
    "    \n",
    "    Input:\n",
    "\n",
    "    w -> pesos, arreglo numpy de tamaño (nx * nx * 3, 1)\n",
    "    b -> bias, escalar\n",
    "    X -> datos de tamaño (num_px * num_px * 3, number of examples)\n",
    "    Y -> vector de etiquetas verdaderes (contiene 0 si no es gato, 1 si es gato) tamaño (1, number of examples)\n",
    "\n",
    "    Return:\n",
    "    cost -- costo log-likelihood negativo para regresion logistica \n",
    "    dw -- gradiente de funcion de error respecto a w, mismas dimensiones de w\n",
    "    db -- gradiente de funcion de error b, mismas dimensiones de b\n",
    "    \n",
    "\n",
    "    \"\"\"\n",
    "    #--------------NO TOCAR------------------#\n",
    "    m = X.shape[1]\n",
    "    #-----------------------------------------#\n",
    "                     \n",
    "    \n",
    "    #FORWARD\n",
    "\n",
    "\n",
    "    #COST\n",
    "\n",
    "    # BACKWARD\n",
    "    dw=\n",
    "    db=\n",
    "\n",
    "    # ---------------NO TOCAR --------------#\n",
    "    cost = np.squeeze(np.array(cost))\n",
    "\n",
    "    \n",
    "    grads = {\"dw\": dw,\n",
    "             \"db\": db}\n",
    "    \n",
    "    return grads, cost"
   ]
  },
  {
   "cell_type": "code",
   "execution_count": null,
   "metadata": {},
   "outputs": [],
   "source": [
    "w =  np.array([[1.], [2]])\n",
    "b = 1.5\n",
    "X = np.array([[1., -2., -1.], [3., 0.5, -3.2]])\n",
    "Y = np.array([[1, 1, 0]])\n",
    "grads, cost = propagacion(w, b, X, Y)\n",
    "\n",
    "assert type(grads[\"dw\"]) == np.ndarray\n",
    "assert grads[\"dw\"].shape == (2, 1)\n",
    "assert type(grads[\"db\"]) == np.float64\n",
    "\n",
    "\n",
    "print (\"dw = \" + str(grads[\"dw\"]))\n",
    "print (\"db = \" + str(grads[\"db\"]))\n",
    "print (\"cost = \" + str(cost))\n",
    "\n",
    "propagate_test(propagacion)"
   ]
  },
  {
   "cell_type": "markdown",
   "metadata": {},
   "source": [
    "## ***Ajuste de parametros***\n",
    "\n",
    " \n"
   ]
  },
  {
   "cell_type": "markdown",
   "metadata": {},
   "source": [
    "### **Ejercicio 7**\n",
    "Escriba la funcion ajuste_parametros la cual tiene como objetivo poder actualizar los parametros  $W$ y $b$ con el fin de que minimizen la funcion de cost $J$.\n",
    "\n",
    "Tenga en cuenta que:\n",
    "\n",
    "<p style=\"text-align: center;\">1. Calcular el costo y el gradiente para los parametros actuales.</p>\n",
    "\n",
    "<p style=\"text-align: center;\">2. Actualizar los parametros usando el gradiente descendiente </p>\n",
    "    \n",
    "Para un parametro $\\theta$, la regla de actualizacion es $ \\theta = \\theta - \\alpha \\text{ } d\\theta$  $\\therefore$ $\\alpha$= tasa de aprendizaje."
   ]
  },
  {
   "cell_type": "code",
   "execution_count": null,
   "metadata": {},
   "outputs": [],
   "source": [
    "\n",
    "def ajuste_parametros(w, b, X, Y, num_iterations=100, learning_rate=0.009, print_cost=False):\n",
    "    \"\"\"\n",
    "    Esta funcion realize en ajuste de los pesos w y b utilizando el gradiente descendiente\n",
    "    \n",
    "    Input:\n",
    "    w -- pesos, a numpy array of size (nx * nx * 3, 1)\n",
    "    b -- bias, a scalar\n",
    "    X -- dimensiones de los datos  (nx * nx * 3, m)\n",
    "    Y -- vector de etiquetas verdaderes (contiene 0 si no es gato, 1 si es gato) tamaño (1, number of examples)\n",
    "    num_iterations -- numero de iteraciones del ciclo ajuste_parametros\n",
    "    learning_rate -- learning rate del gradiente descendiente \n",
    "    print_cost -- True imprimir el costo cada 100 iteraciones\n",
    "\n",
    "\n",
    "\n",
    "    Return:\n",
    "    params -- diccionario que contiene los pesos de w y b\n",
    "    grads -- diccionario que contiene las derivadas parciales de w y b de la funcion de costo \n",
    "    costs -- lista de todos los costos calculados durante el ajuste\n",
    "    \n",
    "    Tips:\n",
    "    You basically need to write down two steps and iterate through them:\n",
    "        1) Calculate the cost and the gradient for the current parameters. Use propagate().\n",
    "        2) Update the parameters using gradient descent rule for w and b.\n",
    "    \"\"\"\n",
    "    #---------------NO TOCAR--------------------#\n",
    "    w = copy.deepcopy(w)\n",
    "    b = copy.deepcopy(b)\n",
    "    \n",
    "    costs = []\n",
    "    #-------------------------------------------#\n",
    "    #----------------------ESCRIBA EL CODIGO--------------------------#\n",
    "    for i in range(True):\n",
    "        #Propagacion\n",
    "        grads,cost= \n",
    "        #Derivadas\n",
    "\n",
    "        #Actualizacion pesos\n",
    "        \n",
    "        #---------------------NO TOCAR-------------------#\n",
    "        if i % 100 == 0:\n",
    "            costs.append(cost)\n",
    "        \n",
    "            if print_cost:\n",
    "                print (\"Cost after iteration %i: %f\" %(i, cost))\n",
    "    \n",
    "    params = {\"w\": w,\n",
    "              \"b\": b}\n",
    "    \n",
    "    grads = {\"dw\": dw,\n",
    "             \"db\": db}\n",
    "    \n",
    "    return params, grads, costs"
   ]
  },
  {
   "cell_type": "code",
   "execution_count": null,
   "metadata": {},
   "outputs": [],
   "source": [
    "params, grads, costs = ajuste_parametros(w, b, X, Y, num_iterations=100, learning_rate=0.009, print_cost=False)\n",
    "\n",
    "print (\"w = \" + str(params[\"w\"]))\n",
    "print (\"b = \" + str(params[\"b\"]))\n",
    "print (\"dw = \" + str(grads[\"dw\"]))\n",
    "print (\"db = \" + str(grads[\"db\"]))\n",
    "print(\"Costs = \" + str(costs))\n",
    "\n",
    "ajuste_parametros_test(ajuste_parametros)"
   ]
  },
  {
   "cell_type": "markdown",
   "metadata": {},
   "source": [
    "## ***Predicción***\n"
   ]
  },
  {
   "cell_type": "markdown",
   "metadata": {},
   "source": [
    "### **Ejercicio 8**\n",
    "\n",
    "\n",
    "La funcion anterior nos permite obtener los parametros aprendidos para  $W$ y $b$. \n",
    "\n",
    "Ahora utilizaremos estos parametros para realizar las predicciones para las etiquetas de la base de datos $X$.\n",
    "\n",
    "Implemente la funcion `predict()` la cual tiene 2 pasos:\n",
    "\n",
    "\n",
    "1. Calcular  $\\hat{Y} = A = \\sigma(w^T X + b)$\n",
    "\n",
    "2. Convertir las entradas a 0 (si activation <= 0.5) o  1 (si activation > 0.5) y guardar las predicciones en el vector  `Y_prediction`"
   ]
  },
  {
   "cell_type": "code",
   "execution_count": null,
   "metadata": {},
   "outputs": [],
   "source": [
    "# GRADED FUNCTION: predict\n",
    "\n",
    "def predict(w, b, X):\n",
    "    '''\n",
    "    Predecir si la etiqueta es 0 o 1 dependiendo de los parameteros reajustados de la regresion logistica(w, b)\n",
    "    \n",
    "    Inputs:\n",
    "    w -- pesos, arreglo de numpy de tamaño  (nx * nx * 3, 1)\n",
    "    b -- bias, a scalar\n",
    "    X -- los datos de tamaño (nx * nx * 3,m)\n",
    "    \n",
    "    Returns:\n",
    "    Y_prediction -- un arreglo de numpy el cual contiene todas las predicciones (0/1) para los ejemplos en X\n",
    "    '''\n",
    "#-----------------NO TOCAR---------------#\n",
    "    m = X.shape[1]\n",
    "    Y_prediction = np.zeros((1, m))\n",
    "    w = w.reshape(X.shape[0], 1)\n",
    "\n",
    "#----------------------------------#\n",
    "\n",
    "    #CAlCULAR A\n",
    "\n",
    "    #CONVERTIR LAS ENTRADAS Y GUARDAR A Y_PREDICTION\n",
    "\n",
    "        \n",
    "        # YOUR CODE ENDS HERE\n",
    "    return Y_prediction\n"
   ]
  },
  {
   "cell_type": "code",
   "execution_count": null,
   "metadata": {},
   "outputs": [],
   "source": [
    "w = np.array([[0.1124579], [0.23106775]])\n",
    "b = -0.3\n",
    "X = np.array([[1., -1.1, -3.2],[1.2, 2., 0.1]])\n",
    "print (\"predictions = \" + str(predict(w, b, X)))\n",
    "\n",
    "predict_test(predict)"
   ]
  },
  {
   "cell_type": "markdown",
   "metadata": {},
   "source": [
    "## ***Creación del Modelo***\n",
    "### Ejercicio 9\n",
    "Finalmente, nos enfocaremos en consolidar nuestro modelo. Este proceso implica integrar todas las funciones desarrolladas anteriormente en una secuencia lógica y ordenada, con el objetivo de conformar el algoritmo de detección completo.\n",
    "\n",
    "Utilice las siguientes notaciones en la implementación: :\n",
    "\n",
    "    - Y_prediction_test --> predicciones en el test set\n",
    "\n",
    "    - Y_prediction_train --> predicciones en el train set\n",
    "    \n",
    "    - parameters, grads, costs  --> salidas de la funcion ajuste_parametros"
   ]
  },
  {
   "cell_type": "code",
   "execution_count": null,
   "metadata": {},
   "outputs": [],
   "source": [
    "\n",
    "def model(X_train, Y_train, X_test, Y_test, num_iterations=2000, learning_rate=0.5, print_cost=False):\n",
    "    \"\"\"\n",
    "    Construya el modelo de regression logistica utilizando las funciones anteriormente planteadas\n",
    "    \n",
    "    Inputs:\n",
    "    X_train -- datos de entrenamiento en arreglo numpy (nx * nx * 3, m_train)\n",
    "    Y_train -- etiquetas de los datos de entrenamiento en arreglo numpy (1, m_train)\n",
    "    X_test -- datos de testo en arreglo numpy(num_px * num_px * 3, m_test)\n",
    "    Y_test -- etiquetas de los datos de teteo en arreglo numpy (1, m_test)\n",
    "    num_iterations -- hyperparametro: representa el numero de iteraciones el cual los parametros se ajustan \n",
    "    learning_rate -- hyperparametro:  representa el paso con el cual los parametros se ajustan\n",
    "    print_cost -- True imprimir el costo cada 100 iteraciones\n",
    "    \n",
    "    Returns:\n",
    "    d -- diccionario que contiene toda la funcion del modelo.\n",
    "    \"\"\"\n",
    "    # Inicializa los parametros\n",
    "\n",
    "    # Ajustamos los parametros\n",
    "\n",
    "    # Recibimos los parametros\n",
    "\n",
    "    # Realizamos las predicciones para entrenamiento y testeo\n",
    "    Y_prediction_train=\n",
    "    Y_prediction_test=\n",
    "    #-----------------------NO TOCAR\n",
    "\n",
    "    # Print train/test Errors\n",
    "    if print_cost:\n",
    "        print(\"train accuracy: {} %\".format(100 - np.mean(np.abs(Y_prediction_train - Y_train)) * 100))\n",
    "        print(\"test accuracy: {} %\".format(100 - np.mean(np.abs(Y_prediction_test - Y_test)) * 100))\n",
    "\n",
    "    \n",
    "    d = {\"costs\": costs,\n",
    "         \"Y_prediction_test\": Y_prediction_test, \n",
    "         \"Y_prediction_train\" : Y_prediction_train, \n",
    "         \"w\" : w, \n",
    "         \"b\" : b,\n",
    "         \"learning_rate\" : learning_rate,\n",
    "         \"num_iterations\": num_iterations}\n",
    "    \n",
    "    return d"
   ]
  },
  {
   "cell_type": "code",
   "execution_count": null,
   "metadata": {},
   "outputs": [],
   "source": [
    "from public_tests import *\n",
    "\n",
    "model_test(model)"
   ]
  },
  {
   "cell_type": "code",
   "execution_count": null,
   "metadata": {},
   "outputs": [],
   "source": [
    "logistic_regression_model = model(train_set_x, train_set_y, test_set_x, test_set_y, num_iterations=3000, learning_rate=0.001, print_cost=True)"
   ]
  },
  {
   "cell_type": "markdown",
   "metadata": {},
   "source": [
    "## ***Resultados***"
   ]
  },
  {
   "cell_type": "code",
   "execution_count": null,
   "metadata": {},
   "outputs": [],
   "source": [
    "\n",
    "costs = np.squeeze(logistic_regression_model['costs'])\n",
    "plt.plot(costs)\n",
    "plt.ylabel('costo')\n",
    "plt.xlabel('iteraciones (10**2)')\n",
    "plt.title(\"Learning rate =\" + str(logistic_regression_model[\"learning_rate\"]))\n",
    "plt.show()"
   ]
  },
  {
   "cell_type": "code",
   "execution_count": null,
   "metadata": {},
   "outputs": [],
   "source": [
    "index = 9\n",
    "\n",
    "\n",
    "plt.imshow(test_set_x[:, index].reshape((nx, nx, 3)))\n",
    "print (\"y = \" + str(test_set_y[0,index]) + \", you predicted that it is a \\\"\" + classes[int(logistic_regression_model['Y_prediction_test'][0,index])].decode(\"utf-8\") +  \"\\\" picture.\")"
   ]
  },
  {
   "cell_type": "markdown",
   "metadata": {},
   "source": [
    "Developed by :\n",
    "\n",
    "    Joseph Felipe Grijalva Lozano - jgrijalva@unal.edu.co"
   ]
  }
 ],
 "metadata": {
  "kernelspec": {
   "display_name": "Python 3",
   "language": "python",
   "name": "python3"
  },
  "language_info": {
   "codemirror_mode": {
    "name": "ipython",
    "version": 3
   },
   "file_extension": ".py",
   "mimetype": "text/x-python",
   "name": "python",
   "nbconvert_exporter": "python",
   "pygments_lexer": "ipython3",
   "version": "3.12.2"
  }
 },
 "nbformat": 4,
 "nbformat_minor": 2
}
